{
  "cells": [
    {
      "cell_type": "markdown",
      "id": "6715bc2b",
      "metadata": {
        "id": "6715bc2b"
      },
      "source": [
        "# Astra DB for Customer Service Agent"
      ]
    },
    {
      "cell_type": "markdown",
      "id": "9f6e9609-7293-4d46-a63a-5e0986581d70",
      "metadata": {
        "id": "9f6e9609-7293-4d46-a63a-5e0986581d70"
      },
      "source": [
        "Learn how to use your Astra DB database with AstraPy.\n",
        "\n",
        "In this quickstart, you'll create a vector collection, store a few documents on it, and run **vector searches** on it.\n",
        "\n",
        "_Prerequisites:_ Make sure you have an Astra DB instance and get ready to supply the corresponding *Token* and the *API Endpoint*\n",
        "(read more [here](https://docs.datastax.com/en/astra/home/astra.html))."
      ]
    },
    {
      "cell_type": "markdown",
      "id": "14da74b6",
      "metadata": {
        "id": "14da74b6"
      },
      "source": [
        "## Setup"
      ]
    },
    {
      "cell_type": "code",
      "execution_count": 2,
      "id": "042f832e",
      "metadata": {
        "id": "042f832e",
        "colab": {
          "base_uri": "https://localhost:8080/"
        },
        "outputId": "286dde53-95fc-4de4-d94e-5e08c55a5f55"
      },
      "outputs": [
        {
          "output_type": "stream",
          "name": "stdout",
          "text": [
            "\u001b[2K     \u001b[90m━━━━━━━━━━━━━━━━━━━━━━━━━━━━━━━━━━━━━━━━\u001b[0m \u001b[32m225.1/225.1 kB\u001b[0m \u001b[31m11.2 MB/s\u001b[0m eta \u001b[36m0:00:00\u001b[0m\n",
            "\u001b[2K     \u001b[90m━━━━━━━━━━━━━━━━━━━━━━━━━━━━━━━━━━━━━━━━\u001b[0m \u001b[32m40.3/40.3 kB\u001b[0m \u001b[31m4.6 MB/s\u001b[0m eta \u001b[36m0:00:00\u001b[0m\n",
            "\u001b[2K     \u001b[90m━━━━━━━━━━━━━━━━━━━━━━━━━━━━━━━━━━━━━━━━\u001b[0m \u001b[32m75.0/75.0 kB\u001b[0m \u001b[31m10.8 MB/s\u001b[0m eta \u001b[36m0:00:00\u001b[0m\n",
            "\u001b[2K     \u001b[90m━━━━━━━━━━━━━━━━━━━━━━━━━━━━━━━━━━━━━━━━\u001b[0m \u001b[32m75.9/75.9 kB\u001b[0m \u001b[31m10.4 MB/s\u001b[0m eta \u001b[36m0:00:00\u001b[0m\n",
            "\u001b[2K     \u001b[90m━━━━━━━━━━━━━━━━━━━━━━━━━━━━━━━━━━━━━━━━\u001b[0m \u001b[32m18.8/18.8 MB\u001b[0m \u001b[31m55.6 MB/s\u001b[0m eta \u001b[36m0:00:00\u001b[0m\n",
            "\u001b[2K     \u001b[90m━━━━━━━━━━━━━━━━━━━━━━━━━━━━━━━━━━━━━━━━\u001b[0m \u001b[32m76.9/76.9 kB\u001b[0m \u001b[31m12.0 MB/s\u001b[0m eta \u001b[36m0:00:00\u001b[0m\n",
            "\u001b[2K     \u001b[90m━━━━━━━━━━━━━━━━━━━━━━━━━━━━━━━━━━━━━━━━\u001b[0m \u001b[32m58.3/58.3 kB\u001b[0m \u001b[31m9.4 MB/s\u001b[0m eta \u001b[36m0:00:00\u001b[0m\n",
            "\u001b[2K     \u001b[90m━━━━━━━━━━━━━━━━━━━━━━━━━━━━━━━━━━━━━━━━\u001b[0m \u001b[32m57.5/57.5 kB\u001b[0m \u001b[31m9.0 MB/s\u001b[0m eta \u001b[36m0:00:00\u001b[0m\n",
            "\u001b[?25h\u001b[31mERROR: pip's dependency resolver does not currently take into account all the packages that are installed. This behaviour is the source of the following dependency conflicts.\n",
            "llmx 0.0.15a0 requires cohere, which is not installed.\n",
            "llmx 0.0.15a0 requires tiktoken, which is not installed.\n",
            "tensorflow-probability 0.22.0 requires typing-extensions<4.6.0, but you have typing-extensions 4.9.0 which is incompatible.\u001b[0m\u001b[31m\n",
            "\u001b[0m"
          ]
        }
      ],
      "source": [
        "!pip install --quiet --upgrade astrapy openai tqdm"
      ]
    },
    {
      "cell_type": "markdown",
      "id": "84026946",
      "metadata": {
        "id": "84026946"
      },
      "source": [
        "### Import needed libraries"
      ]
    },
    {
      "cell_type": "code",
      "execution_count": 3,
      "id": "5b15d1a4",
      "metadata": {
        "id": "5b15d1a4"
      },
      "outputs": [],
      "source": [
        "import os, json\n",
        "from getpass import getpass\n",
        "\n",
        "from astrapy.db import AstraDB, AstraDBCollection"
      ]
    },
    {
      "cell_type": "markdown",
      "id": "968c5070-24a1-4cf3-a923-2478ceaa2e37",
      "metadata": {
        "id": "968c5070-24a1-4cf3-a923-2478ceaa2e37"
      },
      "source": [
        "### Provide database credentials\n",
        "\n",
        "These are the connection parameters on your Astra dashboard. Example values:\n",
        "\n",
        "- API Endpoint: `https://01234567-89ab-cdef-0123-456789abcdef-us-east1.apps.astra.datastax.com`\n",
        "- Token: `AstraCS:6gBhNmsk135...`\n"
      ]
    },
    {
      "cell_type": "code",
      "execution_count": 12,
      "id": "0c9a7b18-e7a8-466e-8785-2becc94017fb",
      "metadata": {
        "id": "0c9a7b18-e7a8-466e-8785-2becc94017fb",
        "colab": {
          "base_uri": "https://localhost:8080/"
        },
        "outputId": "e5a7b893-78e6-4d8a-e0d1-96de60a925b0"
      },
      "outputs": [
        {
          "name": "stdout",
          "output_type": "stream",
          "text": [
            "ASTRA_DB_API_ENDPOINT = https://b0748576-a92d-4682-86b0-13a0a04fb4dd-us-east1.apps.astra.datastax.com\n",
            "ASTRA_DB_APPLICATION_TOKEN = ··········\n"
          ]
        }
      ],
      "source": [
        "ASTRA_DB_API_ENDPOINT = input(\"ASTRA_DB_API_ENDPOINT = \")\n",
        "ASTRA_DB_APPLICATION_TOKEN = getpass(\"ASTRA_DB_APPLICATION_TOKEN = \")"
      ]
    },
    {
      "cell_type": "markdown",
      "id": "485d5347",
      "metadata": {
        "id": "485d5347"
      },
      "source": [
        "## Create a collection"
      ]
    },
    {
      "cell_type": "markdown",
      "id": "6429f29a",
      "metadata": {
        "id": "6429f29a"
      },
      "source": [
        "### Create the client"
      ]
    },
    {
      "cell_type": "code",
      "execution_count": 13,
      "id": "971edbec",
      "metadata": {
        "id": "971edbec"
      },
      "outputs": [],
      "source": [
        "astra_db = AstraDB(\n",
        "    api_endpoint=ASTRA_DB_API_ENDPOINT,\n",
        "    token=ASTRA_DB_APPLICATION_TOKEN,\n",
        ")"
      ]
    },
    {
      "cell_type": "markdown",
      "source": [
        "# Carregando Reviews"
      ],
      "metadata": {
        "id": "0HQTuWM7Zas1"
      },
      "id": "0HQTuWM7Zas1"
    },
    {
      "cell_type": "code",
      "source": [
        "data = [{\n",
        "    \"source\": \"\",\n",
        "    \"agent\": \"service_charge\",\n",
        "    \"title\" : 'Comgás | Ligação do Fogão com o Gás',\n",
        "    \"content\" : \"\"\"Prezada equipe da Comgás,\n",
        "Escrevo esta reclamação formal para expressar minha insatisfação em relação à cobrança de R$300,00 para a instalação da mangueira de gás para o meu novo fogão, que já possui conversão para gás encanado e nunca foi utilizado. Importante dizer que não foi solicitado a instalação do gás no apartamento e vocês estão cobrando o serviço de instalação da mangueira no fogão até o gás.\n",
        "Entendo a necessidade de procedimentos de segurança e instalação profissional, porém, considerando que meu fogão já possui a adaptação necessária, a cobrança mencionada parece injustificada. Gostaria de esclarecimentos sobre o motivo dessa taxa e solicito uma revisão dessa cobrança, levando em consideração as circunstâncias específicas do meu caso.\n",
        "Agradeço a atenção e espero uma rápida resolução para esta questão.\n",
        "Atenciosamente,\n",
        "******* Silva Machado\n",
        "*******\"\"\"\n",
        "},\n",
        "        {\n",
        "            \"source\": \"\",\n",
        "            \"agent\": \"invoice_charge\",\n",
        "            \"title\": 'Cobrança abusiva',\n",
        "            \"content\": \"\"\"No começo do mês de Janeiro, recebi minha fatura (que tem uma média de no máximo $56) no valor de $450 aproximadamente. Entrei em contato com a Comgás pelo chat e pedi a revisão da fatura. Durante o contato, me foi recomendado pagar essa fatura para não gerar juros e confirmado que ao identificar o problema, meu dinheiro seria devolvido. Pois bem, paguei a fatura e a Comgás enviou um técnico pra fazer a troca do medidor. No dia seguinte, foi constatado que realmente houve um engano no valor cobrado e disseram que o valor correto era de $99, o dobro do que eu costumo pagar. No mês de dezembro não houve nenhum aumento de consumo, na verdade houve uma redução, pois estava muito calor e evitamos usar o forno, fora que viajamos por alguns dias. Pedi novamente a revisão dessa fatura, pois não utilizei o produto e não acho justo ter que pagar esse valor abusivo. Fora a isso, perguntei sobre o reembolso e me informaram que não devolvem o dinheiro, o mesmo fica retido como crédito para as próximas faturas. Não quero crédito, preciso do reembolso, pois não é um valor baixo e está fazendo falta. Hoje recebi retorno da Comgás e disseram que o valor está sim correto dessa fatura, ficou a palavra deles contra a minha, não concordo com essa cobrança do dobro do valor. Moram apenas 2 pessoas na minha casa e a única coisa ligada no gás é o fogão. NÃO UTILIZEI ESSE SERVIÇO E NÃO É JUSTO ME COBRAR ESSE VALOR.\"\"\"\n",
        "        },\n",
        "        {\n",
        "            \"source\": \"https://www.reclameaqui.com.br/comgas/conta-de-gas-no-valor-de-1153-00_l-YHdz0EejQChl3t/\",\n",
        "            \"agent\": \"invoice_charge\",\n",
        "            \"title\": 'Conta de gás no valor de 1153,00',\n",
        "            \"content\": \"\"\"Boa tarde\n",
        "Minha conta de gás do mês de janeiro veio um valor exorbitante de 1153,00 entrei em\n",
        "Contato com a empresa me disseram que estava correto quero entender como uma residência aonde moram um adulto e uma\n",
        "Criança pode gasta mais de 1000 por mês sendo q nos meses anteriores nunca chegou nesse valor e a segunda vez que essa empresa faz isso o pior que os especialistas não tem qualificações nenhuma pq qualquer pessoa em sã consciência ia saber q não existe um gasto desse e só analisar minhas contas anteriores a conta estava em débito automático minha conta ficou negativa\"\"\"\n",
        "        },\n",
        "        {\n",
        "            \"source\": \"https://www.reclameaqui.com.br/comgas/leitura-de-consumo-de-gas-incorrera_OE7gvTuPWiL2Y0J0/\",\n",
        "            \"agent\": \"invoice_charge\",\n",
        "            \"title\": \"Leitura de consumo de gás incorrera\",\n",
        "            \"content\": \"\"\"Boa tarde!\n",
        "\n",
        "Estou abrindo esta reclamação para solicitar a releitura do meu consumo de gás, pois após comparação das leituras efetuadas nos dois últimos meses (Nov e Dez/23), somado a inspeção do que é apresentado em meu medidor, acredito que a leitura do meu consumo esteja incorreta (conforme evidências em anexo).\n",
        "\n",
        "Na fatura de Dezembro foi efetuada uma leitura atual de 255, porém em meu medidor, consta 225.\n",
        "\n",
        "Conforme solicitação recebida em contato com a central de relacionamento da comgás, tirei duas fotos com intervalo de 10min uma da outra e ambas registram o mesmo valor.\n",
        "\n",
        "Gostaria de pedir o apoio de vocês para entender o que houve e solucionar o meu caso, pois não utilizei o gás no mês de dezembro e recebi uma cobrança de um valor absurdo.\n",
        "\n",
        "\n",
        "Obrigada!\"\"\"\n",
        "        }\n",
        "        ]"
      ],
      "metadata": {
        "id": "P79cRcDEZdUt"
      },
      "id": "P79cRcDEZdUt",
      "execution_count": 6,
      "outputs": []
    },
    {
      "cell_type": "code",
      "source": [
        "import os, json\n",
        "from getpass import getpass\n",
        "OPENAI_API_KEY = getpass(\"OPENAI_API_KEY = \")"
      ],
      "metadata": {
        "colab": {
          "base_uri": "https://localhost:8080/"
        },
        "id": "GExCs9cdcJ_o",
        "outputId": "900ef123-a68d-4d22-a82f-58648618c9ce"
      },
      "id": "GExCs9cdcJ_o",
      "execution_count": 7,
      "outputs": [
        {
          "name": "stdout",
          "output_type": "stream",
          "text": [
            "OPENAI_API_KEY = ··········\n"
          ]
        }
      ]
    },
    {
      "cell_type": "code",
      "source": [
        "# Inicializando a OpenAI\n",
        "from openai import OpenAI\n",
        "client = OpenAI(api_key = OPENAI_API_KEY)\n",
        "\n",
        "def get_embedding_openai(text, model=\"text-embedding-3-large\"):\n",
        "   text = text.replace(\"\\n\", \" \")\n",
        "   return client.embeddings.create(input = [text], model=model, dimensions=3072).data[0].embedding\n",
        "\n",
        "embedding = get_embedding_openai(\"My text to test embeddings\")\n",
        "print(len(embedding))\n",
        "print(embedding[:5])"
      ],
      "metadata": {
        "id": "XnkIgPUpaoof"
      },
      "id": "XnkIgPUpaoof",
      "execution_count": null,
      "outputs": []
    },
    {
      "cell_type": "code",
      "source": [
        "astra_db = AstraDB(\n",
        "    api_endpoint=ASTRA_DB_API_ENDPOINT,\n",
        "    token=ASTRA_DB_APPLICATION_TOKEN,\n",
        ")\n",
        "collection_name=\"customer_service_inbox\"\n",
        "# collection = astra_db.create_collection(collection_name,\n",
        "#                                         dimension=3072\n",
        "#                                        )"
      ],
      "metadata": {
        "collapsed": true,
        "id": "Y6irCzCcbKzD"
      },
      "id": "Y6irCzCcbKzD",
      "execution_count": 14,
      "outputs": []
    },
    {
      "cell_type": "code",
      "source": [
        "collection = AstraDBCollection(collection_name, astra_db = astra_db)"
      ],
      "metadata": {
        "id": "rCziG0KrhOX3"
      },
      "id": "rCziG0KrhOX3",
      "execution_count": 16,
      "outputs": []
    },
    {
      "cell_type": "code",
      "source": [
        "collection.delete_many({})"
      ],
      "metadata": {
        "id": "7UbmltPJr0lW"
      },
      "id": "7UbmltPJr0lW",
      "execution_count": null,
      "outputs": []
    },
    {
      "cell_type": "code",
      "source": [
        "%time\n",
        "#Load inbox items dataset to Astra\n",
        "from tqdm import tqdm\n",
        "docs = []\n",
        "count = 0\n",
        "for index, row in tqdm(enumerate(data), desc=f'Loading data'):\n",
        "    count += 1\n",
        "    docs.append({\n",
        "        \"_id\": f\"review_{index}\",\n",
        "        \"agent\": row[\"agent\"],\n",
        "        \"title\": row[\"title\"],\n",
        "        \"content\": row[\"content\"],\n",
        "        \"metadata\" : {\n",
        "            \"source\": row[\"source\"],\n",
        "        },\n",
        "        \"$vector\": get_embedding_openai(row[\"content\"]),\n",
        "    })\n",
        "\n",
        "    # 20 is the max limit for Astrapy\n",
        "    if len(docs) % 10 == 0:\n",
        "        response = collection.insert_many(docs)\n",
        "        docs.clear()\n",
        "\n",
        "response = collection.insert_many(docs)\n",
        "print(f\"{count} loaded - final\")"
      ],
      "metadata": {
        "colab": {
          "base_uri": "https://localhost:8080/"
        },
        "id": "K3FNoue4a3rR",
        "outputId": "a510a2b9-7eca-4d11-f51e-127603b05741"
      },
      "id": "K3FNoue4a3rR",
      "execution_count": 27,
      "outputs": [
        {
          "output_type": "stream",
          "name": "stdout",
          "text": [
            "CPU times: user 2 µs, sys: 0 ns, total: 2 µs\n",
            "Wall time: 3.58 µs\n"
          ]
        },
        {
          "output_type": "stream",
          "name": "stderr",
          "text": [
            "Loading data: 4it [00:00,  4.38it/s]\n"
          ]
        },
        {
          "output_type": "stream",
          "name": "stdout",
          "text": [
            "4 loaded - final\n"
          ]
        }
      ]
    },
    {
      "cell_type": "code",
      "source": [
        "def findSimilar(emb):\n",
        "    docs = collection.vector_find(\n",
        "        emb,\n",
        "        limit=1,\n",
        "        fields=[\"$vector\", \"title\",\"agent\"],\n",
        "    )\n",
        "\n",
        "    return docs[0][\"title\"], docs[0][\"$similarity\"], docs[0][\"_id\"], docs[0][\"agent\"]"
      ],
      "metadata": {
        "id": "qn8dI-57rzdu"
      },
      "id": "qn8dI-57rzdu",
      "execution_count": 29,
      "outputs": []
    },
    {
      "cell_type": "code",
      "source": [
        "# https://www.reclameaqui.com.br/comgas/cobranca_QyWwSL4igUfP2pb8/\n",
        "new_item = \"\"\"A Congas está me cobrando uma parcela de instalação que vencia em 10/Outubro de 2023. Ocorre que paguei antecipadamente no dia 02/10. Ja entrei no site e fiz 2 chamados inclusive enviando o comprovante do pagamento, mas não recebo retorno e CONTINUAM COBRANDO.\n",
        "Esta cobrança é [Editado pelo Reclame Aqui].\n",
        "Se é que alguém da Congas vai entrar em contato, prefiro que seja por email ou WhatsApp.\"\"\"\n",
        "\n",
        "emb = get_embedding_openai(new_item)\n",
        "\n",
        "titleSim, similarity, simId, AIAgent = findSimilar(emb)\n",
        "\n",
        "\n",
        "print(f\"ID item similar: {simId}\")\n",
        "print(f\"Título similar: {titleSim}\")\n",
        "print(f\"Similaridade: {similarity}\")\n",
        "print(f\"Agente: {AIAgent}\")"
      ],
      "metadata": {
        "colab": {
          "base_uri": "https://localhost:8080/"
        },
        "id": "66LRJQEGsFFb",
        "outputId": "c59b5aef-da03-40c6-f648-8dd74f3c9c39"
      },
      "id": "66LRJQEGsFFb",
      "execution_count": 31,
      "outputs": [
        {
          "output_type": "stream",
          "name": "stdout",
          "text": [
            "ID item similar: review_1\n",
            "Título similar: Cobrança abusiva\n",
            "Similaridade: 0.8102504\n",
            "Agente: invoice_charge\n"
          ]
        }
      ]
    },
    {
      "cell_type": "markdown",
      "id": "13d51223",
      "metadata": {
        "id": "13d51223"
      },
      "source": [
        "### Generating Service Orders\n",
        "\n",
        "The `create_collection` method results in a new collection on your database."
      ]
    },
    {
      "cell_type": "code",
      "execution_count": null,
      "id": "895ae303-8e47-46ae-94b8-6d2e1e2f1113",
      "metadata": {
        "id": "895ae303-8e47-46ae-94b8-6d2e1e2f1113"
      },
      "outputs": [],
      "source": [
        "collection = astra_db.create_collection(\"service_orders\")"
      ]
    },
    {
      "cell_type": "code",
      "source": [
        "collection.delete_many({})"
      ],
      "metadata": {
        "id": "OgbbMrfJVIRq"
      },
      "id": "OgbbMrfJVIRq",
      "execution_count": null,
      "outputs": []
    },
    {
      "cell_type": "markdown",
      "id": "116596b5-e199-4869-9085-87a0af281afc",
      "metadata": {
        "id": "116596b5-e199-4869-9085-87a0af281afc"
      },
      "source": []
    },
    {
      "cell_type": "markdown",
      "id": "4d6effcf",
      "metadata": {
        "id": "4d6effcf"
      },
      "source": [
        "## Insert documents"
      ]
    },
    {
      "cell_type": "code",
      "source": [
        "import json\n",
        "from datetime import datetime, timedelta\n",
        "import uuid\n",
        "import random\n",
        "\n",
        "# https://www.reclameaqui.com.br/comgas/cobranca_qmOi__ltdYULQeK0/\n",
        "orders = [\n",
        "    {\n",
        "      \"_id\": \"007910599869\",\n",
        "      \"customer_id\": 'f08a6894-1863-491d-8116-3945fb915597',\n",
        "      \"status\": \"Not Executed\",\n",
        "      \"scheduled_date\": \"2024-11-27\",\n",
        "      \"charges\": \"No charges identified\",\n",
        "      \"contact_made\": True,\n",
        "      \"additional_info\": \"Billing clarification provided for another service order.\"\n",
        "    },\n",
        "    {\n",
        "      \"_id\": \"007910601880\",\n",
        "      \"customer_id\": 'f08a6894-1863-491d-8116-3945fb915597',\n",
        "      \"status\": \"Executed\",\n",
        "      \"scheduled_date\": \"2024-12-08\",\n",
        "      \"execution_date\": \"2024-12-08\",\n",
        "      \"charges\": \"Charges incurred\",\n",
        "      \"payment_plan\": {\n",
        "        \"installments\": 2,\n",
        "        \"confirmed\": True,\n",
        "        \"installment_amount\": 144.50\n",
        "      },\n",
        "      \"communication_details\": {\n",
        "        \"contact_type\": \"Phone\",\n",
        "        \"request_details\": \"Detailed breakdown of charges and installment confirmation\",\n",
        "        \"protocol_number\": \"8115209240\"\n",
        "      }\n",
        "    }\n",
        "  ]\n",
        "response = collection.insert_many(orders)\n",
        "print(response)"
      ],
      "metadata": {
        "id": "8O-7yfZCQ8-9"
      },
      "id": "8O-7yfZCQ8-9",
      "execution_count": null,
      "outputs": []
    },
    {
      "cell_type": "code",
      "execution_count": null,
      "id": "f312b0ab",
      "metadata": {
        "id": "f312b0ab"
      },
      "outputs": [],
      "source": [
        "document = collection.find_one()\n",
        "print(document)"
      ]
    },
    {
      "cell_type": "code",
      "source": [],
      "metadata": {
        "id": "s5ALTVQbMbLT"
      },
      "id": "s5ALTVQbMbLT",
      "execution_count": null,
      "outputs": []
    }
  ],
  "metadata": {
    "kernelspec": {
      "display_name": "Python 3 (ipykernel)",
      "language": "python",
      "name": "python3"
    },
    "language_info": {
      "codemirror_mode": {
        "name": "ipython",
        "version": 3
      },
      "file_extension": ".py",
      "mimetype": "text/x-python",
      "name": "python",
      "nbconvert_exporter": "python",
      "pygments_lexer": "ipython3",
      "version": "3.9.17"
    },
    "colab": {
      "provenance": []
    }
  },
  "nbformat": 4,
  "nbformat_minor": 5
}